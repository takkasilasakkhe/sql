{
 "cells": [
  {
   "cell_type": "code",
   "execution_count": 1,
   "metadata": {},
   "outputs": [],
   "source": [
    "import pandas as pd\n",
    "import sqlite3"
   ]
  },
  {
   "cell_type": "code",
   "execution_count": 2,
   "metadata": {},
   "outputs": [
    {
     "name": "stdout",
     "output_type": "stream",
     "text": [
      "Requirement already satisfied: ipython-sql in c:\\users\\appscript\\anaconda3\\lib\\site-packages (0.4.0)\n",
      "Requirement already satisfied: six in c:\\users\\appscript\\anaconda3\\lib\\site-packages (from ipython-sql) (1.15.0)\n",
      "Requirement already satisfied: sqlalchemy>=0.6.7 in c:\\users\\appscript\\anaconda3\\lib\\site-packages (from ipython-sql) (1.2.11)\n",
      "Requirement already satisfied: prettytable<1 in c:\\users\\appscript\\anaconda3\\lib\\site-packages (from ipython-sql) (0.7.2)\n",
      "Requirement already satisfied: ipython>=1.0 in c:\\users\\appscript\\anaconda3\\lib\\site-packages (from ipython-sql) (7.27.0)\n",
      "Requirement already satisfied: ipython-genutils>=0.1.0 in c:\\users\\appscript\\anaconda3\\lib\\site-packages (from ipython-sql) (0.2.0)\n",
      "Requirement already satisfied: sqlparse in c:\\users\\appscript\\anaconda3\\lib\\site-packages (from ipython-sql) (0.4.2)\n",
      "Requirement already satisfied: backcall in c:\\users\\appscript\\anaconda3\\lib\\site-packages (from ipython>=1.0->ipython-sql) (0.1.0)\n",
      "Requirement already satisfied: matplotlib-inline in c:\\users\\appscript\\anaconda3\\lib\\site-packages (from ipython>=1.0->ipython-sql) (0.1.2)\n",
      "Requirement already satisfied: colorama in c:\\users\\appscript\\anaconda3\\lib\\site-packages (from ipython>=1.0->ipython-sql) (0.3.9)\n",
      "Requirement already satisfied: pickleshare in c:\\users\\appscript\\anaconda3\\lib\\site-packages (from ipython>=1.0->ipython-sql) (0.7.4)\n",
      "Requirement already satisfied: jedi>=0.16 in c:\\users\\appscript\\anaconda3\\lib\\site-packages (from ipython>=1.0->ipython-sql) (0.18.0)\n",
      "Requirement already satisfied: traitlets>=4.2 in c:\\users\\appscript\\anaconda3\\lib\\site-packages (from ipython>=1.0->ipython-sql) (4.3.2)\n",
      "Requirement already satisfied: prompt-toolkit!=3.0.0,!=3.0.1,<3.1.0,>=2.0.0 in c:\\users\\appscript\\anaconda3\\lib\\site-packages (from ipython>=1.0->ipython-sql) (3.0.20)\n",
      "Requirement already satisfied: setuptools>=18.5 in c:\\users\\appscript\\anaconda3\\lib\\site-packages (from ipython>=1.0->ipython-sql) (57.4.0)\n",
      "Requirement already satisfied: decorator in c:\\users\\appscript\\anaconda3\\lib\\site-packages (from ipython>=1.0->ipython-sql) (4.3.0)\n",
      "Requirement already satisfied: pygments in c:\\users\\appscript\\anaconda3\\lib\\site-packages (from ipython>=1.0->ipython-sql) (2.2.0)\n",
      "Requirement already satisfied: parso<0.9.0,>=0.8.0 in c:\\users\\appscript\\anaconda3\\lib\\site-packages (from jedi>=0.16->ipython>=1.0->ipython-sql) (0.8.2)\n",
      "Requirement already satisfied: wcwidth in c:\\users\\appscript\\anaconda3\\lib\\site-packages (from prompt-toolkit!=3.0.0,!=3.0.1,<3.1.0,>=2.0.0->ipython>=1.0->ipython-sql) (0.1.7)\n"
     ]
    }
   ],
   "source": [
    "!pip install ipython-sql"
   ]
  },
  {
   "cell_type": "code",
   "execution_count": 3,
   "metadata": {},
   "outputs": [],
   "source": [
    "d1=pd.DataFrame({'name':['akbar','hari','krishna','deva','karthik','charan'],'age':[23,25,26,28,22,26],'location':['pdtr','hyd','bglr','pune','pdvla','pdtr']})"
   ]
  },
  {
   "cell_type": "code",
   "execution_count": 7,
   "metadata": {},
   "outputs": [],
   "source": [
    "cnn=sqlite3.connect('akbar_database.db')"
   ]
  },
  {
   "cell_type": "code",
   "execution_count": 8,
   "metadata": {},
   "outputs": [
    {
     "data": {
      "text/html": [
       "<div>\n",
       "<style scoped>\n",
       "    .dataframe tbody tr th:only-of-type {\n",
       "        vertical-align: middle;\n",
       "    }\n",
       "\n",
       "    .dataframe tbody tr th {\n",
       "        vertical-align: top;\n",
       "    }\n",
       "\n",
       "    .dataframe thead th {\n",
       "        text-align: right;\n",
       "    }\n",
       "</style>\n",
       "<table border=\"1\" class=\"dataframe\">\n",
       "  <thead>\n",
       "    <tr style=\"text-align: right;\">\n",
       "      <th></th>\n",
       "      <th>name</th>\n",
       "      <th>age</th>\n",
       "      <th>location</th>\n",
       "    </tr>\n",
       "  </thead>\n",
       "  <tbody>\n",
       "    <tr>\n",
       "      <th>0</th>\n",
       "      <td>akbar</td>\n",
       "      <td>23</td>\n",
       "      <td>pdtr</td>\n",
       "    </tr>\n",
       "    <tr>\n",
       "      <th>1</th>\n",
       "      <td>hari</td>\n",
       "      <td>25</td>\n",
       "      <td>hyd</td>\n",
       "    </tr>\n",
       "    <tr>\n",
       "      <th>2</th>\n",
       "      <td>krishna</td>\n",
       "      <td>26</td>\n",
       "      <td>bglr</td>\n",
       "    </tr>\n",
       "    <tr>\n",
       "      <th>3</th>\n",
       "      <td>deva</td>\n",
       "      <td>28</td>\n",
       "      <td>pune</td>\n",
       "    </tr>\n",
       "    <tr>\n",
       "      <th>4</th>\n",
       "      <td>karthik</td>\n",
       "      <td>22</td>\n",
       "      <td>pdvla</td>\n",
       "    </tr>\n",
       "    <tr>\n",
       "      <th>5</th>\n",
       "      <td>charan</td>\n",
       "      <td>26</td>\n",
       "      <td>pdtr</td>\n",
       "    </tr>\n",
       "  </tbody>\n",
       "</table>\n",
       "</div>"
      ],
      "text/plain": [
       "      name  age location\n",
       "0    akbar   23     pdtr\n",
       "1     hari   25      hyd\n",
       "2  krishna   26     bglr\n",
       "3     deva   28     pune\n",
       "4  karthik   22    pdvla\n",
       "5   charan   26     pdtr"
      ]
     },
     "execution_count": 8,
     "metadata": {},
     "output_type": "execute_result"
    }
   ],
   "source": [
    "d1"
   ]
  },
  {
   "cell_type": "code",
   "execution_count": 9,
   "metadata": {},
   "outputs": [],
   "source": [
    "d1.to_sql('appscriptsoftwares',cnn)"
   ]
  },
  {
   "cell_type": "code",
   "execution_count": 10,
   "metadata": {},
   "outputs": [],
   "source": [
    "%load_ext sql"
   ]
  },
  {
   "cell_type": "code",
   "execution_count": 11,
   "metadata": {},
   "outputs": [],
   "source": [
    "%sql sqlite:///akbar_database.db"
   ]
  },
  {
   "cell_type": "code",
   "execution_count": 12,
   "metadata": {},
   "outputs": [
    {
     "name": "stdout",
     "output_type": "stream",
     "text": [
      " * sqlite:///akbar_database.db\n",
      "Done.\n"
     ]
    },
    {
     "data": {
      "text/html": [
       "<table>\n",
       "    <tr>\n",
       "        <th>index</th>\n",
       "        <th>name</th>\n",
       "        <th>age</th>\n",
       "        <th>location</th>\n",
       "    </tr>\n",
       "    <tr>\n",
       "        <td>0</td>\n",
       "        <td>akbar</td>\n",
       "        <td>23</td>\n",
       "        <td>pdtr</td>\n",
       "    </tr>\n",
       "    <tr>\n",
       "        <td>1</td>\n",
       "        <td>hari</td>\n",
       "        <td>25</td>\n",
       "        <td>hyd</td>\n",
       "    </tr>\n",
       "    <tr>\n",
       "        <td>2</td>\n",
       "        <td>krishna</td>\n",
       "        <td>26</td>\n",
       "        <td>bglr</td>\n",
       "    </tr>\n",
       "    <tr>\n",
       "        <td>3</td>\n",
       "        <td>deva</td>\n",
       "        <td>28</td>\n",
       "        <td>pune</td>\n",
       "    </tr>\n",
       "    <tr>\n",
       "        <td>4</td>\n",
       "        <td>karthik</td>\n",
       "        <td>22</td>\n",
       "        <td>pdvla</td>\n",
       "    </tr>\n",
       "    <tr>\n",
       "        <td>5</td>\n",
       "        <td>charan</td>\n",
       "        <td>26</td>\n",
       "        <td>pdtr</td>\n",
       "    </tr>\n",
       "</table>"
      ],
      "text/plain": [
       "[(0, 'akbar', 23, 'pdtr'),\n",
       " (1, 'hari', 25, 'hyd'),\n",
       " (2, 'krishna', 26, 'bglr'),\n",
       " (3, 'deva', 28, 'pune'),\n",
       " (4, 'karthik', 22, 'pdvla'),\n",
       " (5, 'charan', 26, 'pdtr')]"
      ]
     },
     "execution_count": 12,
     "metadata": {},
     "output_type": "execute_result"
    }
   ],
   "source": [
    "%%sql\n",
    "select * from appscriptsoftwares"
   ]
  },
  {
   "cell_type": "code",
   "execution_count": 13,
   "metadata": {},
   "outputs": [
    {
     "data": {
      "text/html": [
       "<div>\n",
       "<style scoped>\n",
       "    .dataframe tbody tr th:only-of-type {\n",
       "        vertical-align: middle;\n",
       "    }\n",
       "\n",
       "    .dataframe tbody tr th {\n",
       "        vertical-align: top;\n",
       "    }\n",
       "\n",
       "    .dataframe thead th {\n",
       "        text-align: right;\n",
       "    }\n",
       "</style>\n",
       "<table border=\"1\" class=\"dataframe\">\n",
       "  <thead>\n",
       "    <tr style=\"text-align: right;\">\n",
       "      <th></th>\n",
       "      <th>Symbol</th>\n",
       "      <th>ClosingPrice</th>\n",
       "      <th>Eps</th>\n",
       "      <th>Shares</th>\n",
       "      <th>OutStanding(M)</th>\n",
       "      <th>P/E Market</th>\n",
       "      <th>Cap(B) Beta</th>\n",
       "    </tr>\n",
       "  </thead>\n",
       "  <tbody>\n",
       "    <tr>\n",
       "      <th>0</th>\n",
       "      <td>AAPL</td>\n",
       "      <td>501.53</td>\n",
       "      <td>40.32</td>\n",
       "      <td>892.45</td>\n",
       "      <td>12.44</td>\n",
       "      <td>447.59</td>\n",
       "      <td>0.84</td>\n",
       "    </tr>\n",
       "    <tr>\n",
       "      <th>1</th>\n",
       "      <td>AMZN</td>\n",
       "      <td>346.15</td>\n",
       "      <td>0.59</td>\n",
       "      <td>459.00</td>\n",
       "      <td>589.80</td>\n",
       "      <td>158.88</td>\n",
       "      <td>0.52</td>\n",
       "    </tr>\n",
       "    <tr>\n",
       "      <th>2</th>\n",
       "      <td>FB</td>\n",
       "      <td>61.48</td>\n",
       "      <td>0.59</td>\n",
       "      <td>2450.00</td>\n",
       "      <td>104.93</td>\n",
       "      <td>150.92</td>\n",
       "      <td>NAN</td>\n",
       "    </tr>\n",
       "    <tr>\n",
       "      <th>3</th>\n",
       "      <td>GOOG</td>\n",
       "      <td>1133.43</td>\n",
       "      <td>36.05</td>\n",
       "      <td>335.53</td>\n",
       "      <td>31.44</td>\n",
       "      <td>380.64</td>\n",
       "      <td>0.87</td>\n",
       "    </tr>\n",
       "    <tr>\n",
       "      <th>4</th>\n",
       "      <td>TWTR</td>\n",
       "      <td>65.25</td>\n",
       "      <td>-0.30</td>\n",
       "      <td>555.20</td>\n",
       "      <td>NaN</td>\n",
       "      <td>36.23</td>\n",
       "      <td>NAN</td>\n",
       "    </tr>\n",
       "    <tr>\n",
       "      <th>5</th>\n",
       "      <td>YHOO</td>\n",
       "      <td>34.90</td>\n",
       "      <td>1.27</td>\n",
       "      <td>1010.00</td>\n",
       "      <td>27.48</td>\n",
       "      <td>35.36</td>\n",
       "      <td>0.66</td>\n",
       "    </tr>\n",
       "  </tbody>\n",
       "</table>\n",
       "</div>"
      ],
      "text/plain": [
       "    Symbol  ClosingPrice   Eps    Shares   OutStanding(M)   P/E Market   \\\n",
       "0   AAPL          501.53  40.32   892.45             12.44       447.59   \n",
       "1  AMZN           346.15   0.59   459.00            589.80       158.88   \n",
       "2       FB         61.48   0.59  2450.00            104.93       150.92   \n",
       "3     GOOG       1133.43  36.05   335.53             31.44       380.64   \n",
       "4     TWTR         65.25  -0.30   555.20               NaN        36.23   \n",
       "5     YHOO         34.90   1.27  1010.00             27.48        35.36   \n",
       "\n",
       "  Cap(B) Beta  \n",
       "0        0.84  \n",
       "1        0.52  \n",
       "2         NAN  \n",
       "3        0.87  \n",
       "4         NAN  \n",
       "5        0.66  "
      ]
     },
     "execution_count": 13,
     "metadata": {},
     "output_type": "execute_result"
    }
   ],
   "source": [
    "sf=pd.read_csv('dd2.csv')\n",
    "sf"
   ]
  },
  {
   "cell_type": "code",
   "execution_count": 15,
   "metadata": {},
   "outputs": [],
   "source": [
    "sf.to_sql('aipandits',cnn)"
   ]
  },
  {
   "cell_type": "code",
   "execution_count": 16,
   "metadata": {},
   "outputs": [
    {
     "name": "stdout",
     "output_type": "stream",
     "text": [
      " * sqlite:///akbar_database.db\n",
      "Done.\n"
     ]
    },
    {
     "data": {
      "text/html": [
       "<table>\n",
       "    <tr>\n",
       "        <th>index</th>\n",
       "        <th>Symbol</th>\n",
       "        <th>ClosingPrice</th>\n",
       "        <th>Eps </th>\n",
       "        <th>Shares</th>\n",
       "        <th> OutStanding(M) </th>\n",
       "        <th>P/E Market </th>\n",
       "        <th>Cap(B) Beta</th>\n",
       "    </tr>\n",
       "    <tr>\n",
       "        <td>0</td>\n",
       "        <td>AAPL  </td>\n",
       "        <td>501.53</td>\n",
       "        <td>40.32</td>\n",
       "        <td>892.45</td>\n",
       "        <td>12.44</td>\n",
       "        <td>447.59</td>\n",
       "        <td>0.84</td>\n",
       "    </tr>\n",
       "    <tr>\n",
       "        <td>1</td>\n",
       "        <td>AMZN   </td>\n",
       "        <td>346.15</td>\n",
       "        <td>0.59</td>\n",
       "        <td>459.0</td>\n",
       "        <td>589.8</td>\n",
       "        <td>158.88</td>\n",
       "        <td>0.52</td>\n",
       "    </tr>\n",
       "    <tr>\n",
       "        <td>2</td>\n",
       "        <td>FB</td>\n",
       "        <td>61.48</td>\n",
       "        <td>0.59</td>\n",
       "        <td>2450.0</td>\n",
       "        <td>104.93</td>\n",
       "        <td>150.92</td>\n",
       "        <td>NAN</td>\n",
       "    </tr>\n",
       "    <tr>\n",
       "        <td>3</td>\n",
       "        <td>GOOG</td>\n",
       "        <td>1133.43</td>\n",
       "        <td>36.05</td>\n",
       "        <td>335.53</td>\n",
       "        <td>31.44</td>\n",
       "        <td>380.64</td>\n",
       "        <td>0.87</td>\n",
       "    </tr>\n",
       "    <tr>\n",
       "        <td>4</td>\n",
       "        <td>TWTR</td>\n",
       "        <td>65.25</td>\n",
       "        <td>-0.3</td>\n",
       "        <td>555.2</td>\n",
       "        <td>None</td>\n",
       "        <td>36.23</td>\n",
       "        <td>NAN</td>\n",
       "    </tr>\n",
       "    <tr>\n",
       "        <td>5</td>\n",
       "        <td>YHOO</td>\n",
       "        <td>34.9</td>\n",
       "        <td>1.27</td>\n",
       "        <td>1010.0</td>\n",
       "        <td>27.48</td>\n",
       "        <td>35.36</td>\n",
       "        <td>0.66</td>\n",
       "    </tr>\n",
       "</table>"
      ],
      "text/plain": [
       "[(0, 'AAPL  ', 501.53, 40.32, 892.45, 12.44, 447.59, '0.84'),\n",
       " (1, 'AMZN   ', 346.15, 0.59, 459.0, 589.8, 158.88, '0.52'),\n",
       " (2, 'FB', 61.48, 0.59, 2450.0, 104.93, 150.92, 'NAN'),\n",
       " (3, 'GOOG', 1133.43, 36.05, 335.53, 31.44, 380.64, '0.87'),\n",
       " (4, 'TWTR', 65.25, -0.3, 555.2, None, 36.23, 'NAN'),\n",
       " (5, 'YHOO', 34.9, 1.27, 1010.0, 27.48, 35.36, '0.66')]"
      ]
     },
     "execution_count": 16,
     "metadata": {},
     "output_type": "execute_result"
    }
   ],
   "source": [
    "%%sql\n",
    "select * from aipandits"
   ]
  },
  {
   "cell_type": "code",
   "execution_count": 17,
   "metadata": {},
   "outputs": [
    {
     "name": "stdout",
     "output_type": "stream",
     "text": [
      " * sqlite:///akbar_database.db\n",
      "Done.\n"
     ]
    },
    {
     "data": {
      "text/html": [
       "<table>\n",
       "    <tr>\n",
       "        <th>count(*)</th>\n",
       "    </tr>\n",
       "    <tr>\n",
       "        <td>6</td>\n",
       "    </tr>\n",
       "</table>"
      ],
      "text/plain": [
       "[(6,)]"
      ]
     },
     "execution_count": 17,
     "metadata": {},
     "output_type": "execute_result"
    }
   ],
   "source": [
    "%%sql\n",
    "select count(*) from appscriptsoftwares"
   ]
  },
  {
   "cell_type": "code",
   "execution_count": 18,
   "metadata": {},
   "outputs": [
    {
     "name": "stdout",
     "output_type": "stream",
     "text": [
      " * sqlite:///akbar_database.db\n",
      "Done.\n"
     ]
    },
    {
     "data": {
      "text/html": [
       "<table>\n",
       "    <tr>\n",
       "        <th>count(*)</th>\n",
       "    </tr>\n",
       "    <tr>\n",
       "        <td>6</td>\n",
       "    </tr>\n",
       "</table>"
      ],
      "text/plain": [
       "[(6,)]"
      ]
     },
     "execution_count": 18,
     "metadata": {},
     "output_type": "execute_result"
    }
   ],
   "source": [
    "%%sql\n",
    "select count(*) from aipandits"
   ]
  },
  {
   "cell_type": "code",
   "execution_count": 19,
   "metadata": {},
   "outputs": [
    {
     "name": "stdout",
     "output_type": "stream",
     "text": [
      " * sqlite:///akbar_database.db\n",
      "Done.\n"
     ]
    },
    {
     "data": {
      "text/html": [
       "<table>\n",
       "    <tr>\n",
       "        <th>total_age</th>\n",
       "    </tr>\n",
       "    <tr>\n",
       "        <td>150</td>\n",
       "    </tr>\n",
       "</table>"
      ],
      "text/plain": [
       "[(150,)]"
      ]
     },
     "execution_count": 19,
     "metadata": {},
     "output_type": "execute_result"
    }
   ],
   "source": [
    "%%sql\n",
    "select sum(age) as total_age from appscriptsoftwares"
   ]
  },
  {
   "cell_type": "code",
   "execution_count": 23,
   "metadata": {},
   "outputs": [
    {
     "name": "stdout",
     "output_type": "stream",
     "text": [
      " * sqlite:///akbar_database.db\n",
      "Done.\n"
     ]
    },
    {
     "data": {
      "text/html": [
       "<table>\n",
       "    <tr>\n",
       "        <th>index</th>\n",
       "        <th>Symbol</th>\n",
       "        <th>ClosingPrice</th>\n",
       "        <th>Eps </th>\n",
       "        <th>Shares</th>\n",
       "        <th> OutStanding(M) </th>\n",
       "        <th>P/E Market </th>\n",
       "        <th>Cap(B) Beta</th>\n",
       "    </tr>\n",
       "    <tr>\n",
       "        <td>0</td>\n",
       "        <td>AAPL  </td>\n",
       "        <td>501.53</td>\n",
       "        <td>40.32</td>\n",
       "        <td>892.45</td>\n",
       "        <td>12.44</td>\n",
       "        <td>447.59</td>\n",
       "        <td>0.84</td>\n",
       "    </tr>\n",
       "    <tr>\n",
       "        <td>1</td>\n",
       "        <td>AMZN   </td>\n",
       "        <td>346.15</td>\n",
       "        <td>0.59</td>\n",
       "        <td>459.0</td>\n",
       "        <td>589.8</td>\n",
       "        <td>158.88</td>\n",
       "        <td>0.52</td>\n",
       "    </tr>\n",
       "    <tr>\n",
       "        <td>2</td>\n",
       "        <td>FB</td>\n",
       "        <td>61.48</td>\n",
       "        <td>0.59</td>\n",
       "        <td>2450.0</td>\n",
       "        <td>104.93</td>\n",
       "        <td>150.92</td>\n",
       "        <td>NAN</td>\n",
       "    </tr>\n",
       "    <tr>\n",
       "        <td>3</td>\n",
       "        <td>GOOG</td>\n",
       "        <td>1133.43</td>\n",
       "        <td>36.05</td>\n",
       "        <td>335.53</td>\n",
       "        <td>31.44</td>\n",
       "        <td>380.64</td>\n",
       "        <td>0.87</td>\n",
       "    </tr>\n",
       "    <tr>\n",
       "        <td>4</td>\n",
       "        <td>TWTR</td>\n",
       "        <td>65.25</td>\n",
       "        <td>-0.3</td>\n",
       "        <td>555.2</td>\n",
       "        <td>None</td>\n",
       "        <td>36.23</td>\n",
       "        <td>NAN</td>\n",
       "    </tr>\n",
       "    <tr>\n",
       "        <td>5</td>\n",
       "        <td>YHOO</td>\n",
       "        <td>34.9</td>\n",
       "        <td>1.27</td>\n",
       "        <td>1010.0</td>\n",
       "        <td>27.48</td>\n",
       "        <td>35.36</td>\n",
       "        <td>0.66</td>\n",
       "    </tr>\n",
       "</table>"
      ],
      "text/plain": [
       "[(0, 'AAPL  ', 501.53, 40.32, 892.45, 12.44, 447.59, '0.84'),\n",
       " (1, 'AMZN   ', 346.15, 0.59, 459.0, 589.8, 158.88, '0.52'),\n",
       " (2, 'FB', 61.48, 0.59, 2450.0, 104.93, 150.92, 'NAN'),\n",
       " (3, 'GOOG', 1133.43, 36.05, 335.53, 31.44, 380.64, '0.87'),\n",
       " (4, 'TWTR', 65.25, -0.3, 555.2, None, 36.23, 'NAN'),\n",
       " (5, 'YHOO', 34.9, 1.27, 1010.0, 27.48, 35.36, '0.66')]"
      ]
     },
     "execution_count": 23,
     "metadata": {},
     "output_type": "execute_result"
    }
   ],
   "source": [
    "%%sql\n",
    "select * from aipandits"
   ]
  },
  {
   "cell_type": "code",
   "execution_count": 35,
   "metadata": {},
   "outputs": [
    {
     "name": "stdout",
     "output_type": "stream",
     "text": [
      " * sqlite:///akbar_database.db\n",
      "Done.\n"
     ]
    },
    {
     "data": {
      "text/html": [
       "<table>\n",
       "    <tr>\n",
       "        <th>Shares</th>\n",
       "        <th>ClosingPrice</th>\n",
       "        <th>Symbol</th>\n",
       "    </tr>\n",
       "    <tr>\n",
       "        <td>892.45</td>\n",
       "        <td>501.53</td>\n",
       "        <td>AAPL  </td>\n",
       "    </tr>\n",
       "    <tr>\n",
       "        <td>459.0</td>\n",
       "        <td>346.15</td>\n",
       "        <td>AMZN   </td>\n",
       "    </tr>\n",
       "    <tr>\n",
       "        <td>2450.0</td>\n",
       "        <td>61.48</td>\n",
       "        <td>FB</td>\n",
       "    </tr>\n",
       "    <tr>\n",
       "        <td>335.53</td>\n",
       "        <td>1133.43</td>\n",
       "        <td>GOOG</td>\n",
       "    </tr>\n",
       "    <tr>\n",
       "        <td>555.2</td>\n",
       "        <td>65.25</td>\n",
       "        <td>TWTR</td>\n",
       "    </tr>\n",
       "    <tr>\n",
       "        <td>1010.0</td>\n",
       "        <td>34.9</td>\n",
       "        <td>YHOO</td>\n",
       "    </tr>\n",
       "</table>"
      ],
      "text/plain": [
       "[(892.45, 501.53, 'AAPL  '),\n",
       " (459.0, 346.15, 'AMZN   '),\n",
       " (2450.0, 61.48, 'FB'),\n",
       " (335.53, 1133.43, 'GOOG'),\n",
       " (555.2, 65.25, 'TWTR'),\n",
       " (1010.0, 34.9, 'YHOO')]"
      ]
     },
     "execution_count": 35,
     "metadata": {},
     "output_type": "execute_result"
    }
   ],
   "source": [
    "%%sql\n",
    "select shares,closingprice,symbol from aipandits"
   ]
  },
  {
   "cell_type": "code",
   "execution_count": 36,
   "metadata": {},
   "outputs": [
    {
     "name": "stdout",
     "output_type": "stream",
     "text": [
      " * sqlite:///akbar_database.db\n",
      "Done.\n"
     ]
    },
    {
     "data": {
      "text/html": [
       "<table>\n",
       "    <tr>\n",
       "        <th>index</th>\n",
       "        <th>name</th>\n",
       "        <th>age</th>\n",
       "        <th>location</th>\n",
       "    </tr>\n",
       "    <tr>\n",
       "        <td>0</td>\n",
       "        <td>akbar</td>\n",
       "        <td>23</td>\n",
       "        <td>pdtr</td>\n",
       "    </tr>\n",
       "    <tr>\n",
       "        <td>1</td>\n",
       "        <td>hari</td>\n",
       "        <td>25</td>\n",
       "        <td>hyd</td>\n",
       "    </tr>\n",
       "</table>"
      ],
      "text/plain": [
       "[(0, 'akbar', 23, 'pdtr'), (1, 'hari', 25, 'hyd')]"
      ]
     },
     "execution_count": 36,
     "metadata": {},
     "output_type": "execute_result"
    }
   ],
   "source": [
    "%%sql\n",
    "SELECT *\n",
    "  FROM appscriptsoftwares\n",
    " LIMIT 2"
   ]
  },
  {
   "cell_type": "code",
   "execution_count": 37,
   "metadata": {},
   "outputs": [
    {
     "name": "stdout",
     "output_type": "stream",
     "text": [
      " * sqlite:///akbar_database.db\n",
      "Done.\n"
     ]
    },
    {
     "data": {
      "text/html": [
       "<table>\n",
       "    <tr>\n",
       "        <th>index</th>\n",
       "        <th>name</th>\n",
       "        <th>age</th>\n",
       "        <th>location</th>\n",
       "    </tr>\n",
       "    <tr>\n",
       "        <td>0</td>\n",
       "        <td>akbar</td>\n",
       "        <td>23</td>\n",
       "        <td>pdtr</td>\n",
       "    </tr>\n",
       "</table>"
      ],
      "text/plain": [
       "[(0, 'akbar', 23, 'pdtr')]"
      ]
     },
     "execution_count": 37,
     "metadata": {},
     "output_type": "execute_result"
    }
   ],
   "source": [
    "%%sql\n",
    "SELECT *\n",
    "  FROM appscriptsoftwares\n",
    " WHERE age = 23"
   ]
  },
  {
   "cell_type": "code",
   "execution_count": 38,
   "metadata": {},
   "outputs": [
    {
     "name": "stdout",
     "output_type": "stream",
     "text": [
      " * sqlite:///akbar_database.db\n",
      "Done.\n"
     ]
    },
    {
     "data": {
      "text/html": [
       "<table>\n",
       "    <tr>\n",
       "        <th>index</th>\n",
       "        <th>name</th>\n",
       "        <th>age</th>\n",
       "        <th>location</th>\n",
       "    </tr>\n",
       "    <tr>\n",
       "        <td>2</td>\n",
       "        <td>krishna</td>\n",
       "        <td>26</td>\n",
       "        <td>bglr</td>\n",
       "    </tr>\n",
       "    <tr>\n",
       "        <td>3</td>\n",
       "        <td>deva</td>\n",
       "        <td>28</td>\n",
       "        <td>pune</td>\n",
       "    </tr>\n",
       "    <tr>\n",
       "        <td>5</td>\n",
       "        <td>charan</td>\n",
       "        <td>26</td>\n",
       "        <td>pdtr</td>\n",
       "    </tr>\n",
       "</table>"
      ],
      "text/plain": [
       "[(2, 'krishna', 26, 'bglr'),\n",
       " (3, 'deva', 28, 'pune'),\n",
       " (5, 'charan', 26, 'pdtr')]"
      ]
     },
     "execution_count": 38,
     "metadata": {},
     "output_type": "execute_result"
    }
   ],
   "source": [
    "%%sql\n",
    "SELECT *\n",
    "  FROM appscriptsoftwares\n",
    " WHERE age > 25"
   ]
  },
  {
   "cell_type": "code",
   "execution_count": 40,
   "metadata": {},
   "outputs": [
    {
     "name": "stdout",
     "output_type": "stream",
     "text": [
      " * sqlite:///akbar_database.db\n",
      "Done.\n"
     ]
    },
    {
     "data": {
      "text/html": [
       "<table>\n",
       "    <tr>\n",
       "        <th>index</th>\n",
       "        <th>name</th>\n",
       "        <th>age</th>\n",
       "        <th>location</th>\n",
       "    </tr>\n",
       "    <tr>\n",
       "        <td>1</td>\n",
       "        <td>hari</td>\n",
       "        <td>25</td>\n",
       "        <td>hyd</td>\n",
       "    </tr>\n",
       "    <tr>\n",
       "        <td>2</td>\n",
       "        <td>krishna</td>\n",
       "        <td>26</td>\n",
       "        <td>bglr</td>\n",
       "    </tr>\n",
       "    <tr>\n",
       "        <td>3</td>\n",
       "        <td>deva</td>\n",
       "        <td>28</td>\n",
       "        <td>pune</td>\n",
       "    </tr>\n",
       "    <tr>\n",
       "        <td>4</td>\n",
       "        <td>karthik</td>\n",
       "        <td>22</td>\n",
       "        <td>pdvla</td>\n",
       "    </tr>\n",
       "    <tr>\n",
       "        <td>5</td>\n",
       "        <td>charan</td>\n",
       "        <td>26</td>\n",
       "        <td>pdtr</td>\n",
       "    </tr>\n",
       "</table>"
      ],
      "text/plain": [
       "[(1, 'hari', 25, 'hyd'),\n",
       " (2, 'krishna', 26, 'bglr'),\n",
       " (3, 'deva', 28, 'pune'),\n",
       " (4, 'karthik', 22, 'pdvla'),\n",
       " (5, 'charan', 26, 'pdtr')]"
      ]
     },
     "execution_count": 40,
     "metadata": {},
     "output_type": "execute_result"
    }
   ],
   "source": [
    "%%sql\n",
    "SELECT *\n",
    "  FROM appscriptsoftwares\n",
    " WHERE name != 'akbar'"
   ]
  },
  {
   "cell_type": "code",
   "execution_count": 41,
   "metadata": {},
   "outputs": [
    {
     "name": "stdout",
     "output_type": "stream",
     "text": [
      " * sqlite:///akbar_database.db\n",
      "Done.\n"
     ]
    },
    {
     "data": {
      "text/html": [
       "<table>\n",
       "    <tr>\n",
       "        <th>index</th>\n",
       "        <th>name</th>\n",
       "        <th>age</th>\n",
       "        <th>location</th>\n",
       "    </tr>\n",
       "    <tr>\n",
       "        <td>3</td>\n",
       "        <td>deva</td>\n",
       "        <td>28</td>\n",
       "        <td>pune</td>\n",
       "    </tr>\n",
       "</table>"
      ],
      "text/plain": [
       "[(3, 'deva', 28, 'pune')]"
      ]
     },
     "execution_count": 41,
     "metadata": {},
     "output_type": "execute_result"
    }
   ],
   "source": [
    "%%sql\n",
    "SELECT *\n",
    "  FROM appscriptsoftwares\n",
    " WHERE age > 26"
   ]
  },
  {
   "cell_type": "markdown",
   "metadata": {},
   "source": [
    "SQL Logical operators In the previous lesson, you played with some comparison operators to filter data. You’ll likely also want to filter data using several conditions—possibly more often than you'll want to filter by only one condition. Logical operators allow you to use multiple comparison operators in one query.\n",
    "\n",
    "Each logical operator is a special snowflake, so we'll go through them individually in the following lessons. Here's a quick preview:\n",
    "\n",
    "LIKE allows you to match similar values, instead of exact values. IN allows you to specify a list of values you'd like to include. BETWEEN allows you to select only rows within a certain range. IS NULL allows you to select rows that contain no data in a given column. AND allows you to select only rows that satisfy two conditions. OR allows you to select rows that satisfy either of two conditions. NOT allows you to select rows that do not match a certain condition."
   ]
  },
  {
   "cell_type": "code",
   "execution_count": 55,
   "metadata": {},
   "outputs": [
    {
     "name": "stdout",
     "output_type": "stream",
     "text": [
      " * sqlite:///akbar_database.db\n",
      "Done.\n"
     ]
    },
    {
     "data": {
      "text/html": [
       "<table>\n",
       "    <tr>\n",
       "        <th>index</th>\n",
       "        <th>name</th>\n",
       "        <th>age</th>\n",
       "        <th>location</th>\n",
       "    </tr>\n",
       "    <tr>\n",
       "        <td>0</td>\n",
       "        <td>akbar</td>\n",
       "        <td>23</td>\n",
       "        <td>pdtr</td>\n",
       "    </tr>\n",
       "    <tr>\n",
       "        <td>5</td>\n",
       "        <td>charan</td>\n",
       "        <td>26</td>\n",
       "        <td>pdtr</td>\n",
       "    </tr>\n",
       "    <tr>\n",
       "        <td>3</td>\n",
       "        <td>deva</td>\n",
       "        <td>28</td>\n",
       "        <td>pune</td>\n",
       "    </tr>\n",
       "    <tr>\n",
       "        <td>1</td>\n",
       "        <td>hari</td>\n",
       "        <td>25</td>\n",
       "        <td>hyd</td>\n",
       "    </tr>\n",
       "    <tr>\n",
       "        <td>4</td>\n",
       "        <td>karthik</td>\n",
       "        <td>22</td>\n",
       "        <td>pdvla</td>\n",
       "    </tr>\n",
       "    <tr>\n",
       "        <td>2</td>\n",
       "        <td>krishna</td>\n",
       "        <td>26</td>\n",
       "        <td>bglr</td>\n",
       "    </tr>\n",
       "</table>"
      ],
      "text/plain": [
       "[(0, 'akbar', 23, 'pdtr'),\n",
       " (5, 'charan', 26, 'pdtr'),\n",
       " (3, 'deva', 28, 'pune'),\n",
       " (1, 'hari', 25, 'hyd'),\n",
       " (4, 'karthik', 22, 'pdvla'),\n",
       " (2, 'krishna', 26, 'bglr')]"
      ]
     },
     "execution_count": 55,
     "metadata": {},
     "output_type": "execute_result"
    }
   ],
   "source": [
    "%%sql\n",
    "SELECT *\n",
    "  FROM appscriptsoftwares\n",
    " ORDER BY name,age"
   ]
  },
  {
   "cell_type": "code",
   "execution_count": 59,
   "metadata": {},
   "outputs": [
    {
     "name": "stdout",
     "output_type": "stream",
     "text": [
      " * sqlite:///akbar_database.db\n",
      "Done.\n"
     ]
    },
    {
     "data": {
      "text/html": [
       "<table>\n",
       "    <tr>\n",
       "        <th>index</th>\n",
       "        <th>name</th>\n",
       "        <th>age</th>\n",
       "        <th>location</th>\n",
       "    </tr>\n",
       "    <tr>\n",
       "        <td>1</td>\n",
       "        <td>hari</td>\n",
       "        <td>25</td>\n",
       "        <td>hyd</td>\n",
       "    </tr>\n",
       "</table>"
      ],
      "text/plain": [
       "[(1, 'hari', 25, 'hyd')]"
      ]
     },
     "execution_count": 59,
     "metadata": {},
     "output_type": "execute_result"
    }
   ],
   "source": [
    "%%sql\n",
    "SELECT *\n",
    "  FROM appscriptsoftwares\n",
    " WHERE \"location\" LIKE '%y%'"
   ]
  },
  {
   "cell_type": "code",
   "execution_count": 60,
   "metadata": {},
   "outputs": [
    {
     "name": "stdout",
     "output_type": "stream",
     "text": [
      " * sqlite:///akbar_database.db\n",
      "Done.\n"
     ]
    },
    {
     "data": {
      "text/html": [
       "<table>\n",
       "    <tr>\n",
       "        <th>index</th>\n",
       "        <th>name</th>\n",
       "        <th>age</th>\n",
       "        <th>location</th>\n",
       "    </tr>\n",
       "    <tr>\n",
       "        <td>0</td>\n",
       "        <td>akbar</td>\n",
       "        <td>23</td>\n",
       "        <td>pdtr</td>\n",
       "    </tr>\n",
       "    <tr>\n",
       "        <td>2</td>\n",
       "        <td>krishna</td>\n",
       "        <td>26</td>\n",
       "        <td>bglr</td>\n",
       "    </tr>\n",
       "    <tr>\n",
       "        <td>5</td>\n",
       "        <td>charan</td>\n",
       "        <td>26</td>\n",
       "        <td>pdtr</td>\n",
       "    </tr>\n",
       "</table>"
      ],
      "text/plain": [
       "[(0, 'akbar', 23, 'pdtr'),\n",
       " (2, 'krishna', 26, 'bglr'),\n",
       " (5, 'charan', 26, 'pdtr')]"
      ]
     },
     "execution_count": 60,
     "metadata": {},
     "output_type": "execute_result"
    }
   ],
   "source": [
    "%%sql\n",
    "SELECT *\n",
    "  FROM appscriptsoftwares\n",
    " WHERE age IN (23,26)"
   ]
  },
  {
   "cell_type": "code",
   "execution_count": 61,
   "metadata": {},
   "outputs": [
    {
     "name": "stdout",
     "output_type": "stream",
     "text": [
      " * sqlite:///akbar_database.db\n",
      "Done.\n"
     ]
    },
    {
     "data": {
      "text/html": [
       "<table>\n",
       "    <tr>\n",
       "        <th>index</th>\n",
       "        <th>name</th>\n",
       "        <th>age</th>\n",
       "        <th>location</th>\n",
       "    </tr>\n",
       "    <tr>\n",
       "        <td>0</td>\n",
       "        <td>akbar</td>\n",
       "        <td>23</td>\n",
       "        <td>pdtr</td>\n",
       "    </tr>\n",
       "    <tr>\n",
       "        <td>1</td>\n",
       "        <td>hari</td>\n",
       "        <td>25</td>\n",
       "        <td>hyd</td>\n",
       "    </tr>\n",
       "    <tr>\n",
       "        <td>4</td>\n",
       "        <td>karthik</td>\n",
       "        <td>22</td>\n",
       "        <td>pdvla</td>\n",
       "    </tr>\n",
       "</table>"
      ],
      "text/plain": [
       "[(0, 'akbar', 23, 'pdtr'), (1, 'hari', 25, 'hyd'), (4, 'karthik', 22, 'pdvla')]"
      ]
     },
     "execution_count": 61,
     "metadata": {},
     "output_type": "execute_result"
    }
   ],
   "source": [
    "%%sql\n",
    "SELECT *\n",
    "  FROM appscriptsoftwares\n",
    " WHERE age BETWEEN 5 AND 25"
   ]
  },
  {
   "cell_type": "code",
   "execution_count": 63,
   "metadata": {},
   "outputs": [
    {
     "name": "stdout",
     "output_type": "stream",
     "text": [
      " * sqlite:///akbar_database.db\n",
      "Done.\n"
     ]
    },
    {
     "data": {
      "text/html": [
       "<table>\n",
       "    <tr>\n",
       "        <th>index</th>\n",
       "        <th>name</th>\n",
       "        <th>age</th>\n",
       "        <th>location</th>\n",
       "    </tr>\n",
       "    <tr>\n",
       "        <td>0</td>\n",
       "        <td>akbar</td>\n",
       "        <td>23</td>\n",
       "        <td>pdtr</td>\n",
       "    </tr>\n",
       "    <tr>\n",
       "        <td>1</td>\n",
       "        <td>hari</td>\n",
       "        <td>25</td>\n",
       "        <td>hyd</td>\n",
       "    </tr>\n",
       "    <tr>\n",
       "        <td>4</td>\n",
       "        <td>karthik</td>\n",
       "        <td>22</td>\n",
       "        <td>pdvla</td>\n",
       "    </tr>\n",
       "</table>"
      ],
      "text/plain": [
       "[(0, 'akbar', 23, 'pdtr'), (1, 'hari', 25, 'hyd'), (4, 'karthik', 22, 'pdvla')]"
      ]
     },
     "execution_count": 63,
     "metadata": {},
     "output_type": "execute_result"
    }
   ],
   "source": [
    "%%sql\n",
    "SELECT *\n",
    "  FROM appscriptsoftwares\n",
    " WHERE age >= 5 AND age <= 25"
   ]
  },
  {
   "cell_type": "code",
   "execution_count": 64,
   "metadata": {},
   "outputs": [
    {
     "name": "stdout",
     "output_type": "stream",
     "text": [
      " * sqlite:///akbar_database.db\n",
      "Done.\n"
     ]
    },
    {
     "data": {
      "text/html": [
       "<table>\n",
       "    <tr>\n",
       "        <th>index</th>\n",
       "        <th>name</th>\n",
       "        <th>age</th>\n",
       "        <th>location</th>\n",
       "    </tr>\n",
       "</table>"
      ],
      "text/plain": [
       "[]"
      ]
     },
     "execution_count": 64,
     "metadata": {},
     "output_type": "execute_result"
    }
   ],
   "source": [
    "%%sql\n",
    "SELECT *\n",
    "  FROM appscriptsoftwares\n",
    " WHERE age IS NULL"
   ]
  },
  {
   "cell_type": "code",
   "execution_count": 65,
   "metadata": {},
   "outputs": [
    {
     "name": "stdout",
     "output_type": "stream",
     "text": [
      " * sqlite:///akbar_database.db\n",
      "Done.\n"
     ]
    },
    {
     "data": {
      "text/html": [
       "<table>\n",
       "    <tr>\n",
       "        <th>index</th>\n",
       "        <th>name</th>\n",
       "        <th>age</th>\n",
       "        <th>location</th>\n",
       "    </tr>\n",
       "    <tr>\n",
       "        <td>0</td>\n",
       "        <td>akbar</td>\n",
       "        <td>23</td>\n",
       "        <td>pdtr</td>\n",
       "    </tr>\n",
       "</table>"
      ],
      "text/plain": [
       "[(0, 'akbar', 23, 'pdtr')]"
      ]
     },
     "execution_count": 65,
     "metadata": {},
     "output_type": "execute_result"
    }
   ],
   "source": [
    "%%sql\n",
    "SELECT *\n",
    "  FROM appscriptsoftwares\n",
    " WHERE name = 'akbar'\n",
    "   AND age <= 50\n",
    "   AND \"location\" LIKE '%r%'"
   ]
  },
  {
   "cell_type": "code",
   "execution_count": 74,
   "metadata": {},
   "outputs": [
    {
     "name": "stdout",
     "output_type": "stream",
     "text": [
      " * sqlite:///akbar_database.db\n",
      "Done.\n"
     ]
    },
    {
     "data": {
      "text/html": [
       "<table>\n",
       "    <tr>\n",
       "        <th>index</th>\n",
       "        <th>name</th>\n",
       "        <th>age</th>\n",
       "        <th>location</th>\n",
       "    </tr>\n",
       "    <tr>\n",
       "        <td>1</td>\n",
       "        <td>hari</td>\n",
       "        <td>25</td>\n",
       "        <td>hyd</td>\n",
       "    </tr>\n",
       "</table>"
      ],
      "text/plain": [
       "[(1, 'hari', 25, 'hyd')]"
      ]
     },
     "execution_count": 74,
     "metadata": {},
     "output_type": "execute_result"
    }
   ],
   "source": [
    "%%sql\n",
    "SELECT *\n",
    "  FROM appscriptsoftwares\n",
    " WHERE age = 25 OR name = 'a'"
   ]
  },
  {
   "cell_type": "code",
   "execution_count": 76,
   "metadata": {},
   "outputs": [
    {
     "name": "stdout",
     "output_type": "stream",
     "text": [
      " * sqlite:///akbar_database.db\n",
      "Done.\n"
     ]
    },
    {
     "data": {
      "text/html": [
       "<table>\n",
       "    <tr>\n",
       "        <th>index</th>\n",
       "        <th>name</th>\n",
       "        <th>age</th>\n",
       "        <th>location</th>\n",
       "    </tr>\n",
       "    <tr>\n",
       "        <td>0</td>\n",
       "        <td>akbar</td>\n",
       "        <td>23</td>\n",
       "        <td>pdtr</td>\n",
       "    </tr>\n",
       "</table>"
      ],
      "text/plain": [
       "[(0, 'akbar', 23, 'pdtr')]"
      ]
     },
     "execution_count": 76,
     "metadata": {},
     "output_type": "execute_result"
    }
   ],
   "source": [
    "%%sql\n",
    "SELECT *\n",
    "  FROM appscriptsoftwares\n",
    "WHERE name = 'akbar'\n",
    "   AND (\"location\" LIKE '%dt%' OR \"location\" LIKE '%br%')"
   ]
  },
  {
   "cell_type": "code",
   "execution_count": 78,
   "metadata": {},
   "outputs": [
    {
     "name": "stdout",
     "output_type": "stream",
     "text": [
      " * sqlite:///akbar_database.db\n",
      "Done.\n"
     ]
    },
    {
     "data": {
      "text/html": [
       "<table>\n",
       "    <tr>\n",
       "        <th>index</th>\n",
       "        <th>name</th>\n",
       "        <th>age</th>\n",
       "        <th>location</th>\n",
       "    </tr>\n",
       "    <tr>\n",
       "        <td>0</td>\n",
       "        <td>akbar</td>\n",
       "        <td>23</td>\n",
       "        <td>pdtr</td>\n",
       "    </tr>\n",
       "</table>"
      ],
      "text/plain": [
       "[(0, 'akbar', 23, 'pdtr')]"
      ]
     },
     "execution_count": 78,
     "metadata": {},
     "output_type": "execute_result"
    }
   ],
   "source": [
    "%%sql\n",
    "SELECT *\n",
    "  FROM appscriptsoftwares\n",
    " WHERE name = 'akbar'\n",
    "   AND age NOT BETWEEN 10 AND 20"
   ]
  },
  {
   "cell_type": "code",
   "execution_count": 80,
   "metadata": {},
   "outputs": [
    {
     "name": "stdout",
     "output_type": "stream",
     "text": [
      " * sqlite:///akbar_database.db\n",
      "Done.\n"
     ]
    },
    {
     "data": {
      "text/html": [
       "<table>\n",
       "    <tr>\n",
       "        <th>index</th>\n",
       "        <th>name</th>\n",
       "        <th>age</th>\n",
       "        <th>location</th>\n",
       "    </tr>\n",
       "    <tr>\n",
       "        <td>5</td>\n",
       "        <td>charan</td>\n",
       "        <td>26</td>\n",
       "        <td>pdtr</td>\n",
       "    </tr>\n",
       "</table>"
      ],
      "text/plain": [
       "[(5, 'charan', 26, 'pdtr')]"
      ]
     },
     "execution_count": 80,
     "metadata": {},
     "output_type": "execute_result"
    }
   ],
   "source": [
    "%%sql\n",
    "SELECT *\n",
    "  FROM appscriptsoftwares\n",
    " WHERE age = 26\n",
    "   AND \"location\" NOT LIKE '%bgl%'"
   ]
  },
  {
   "cell_type": "code",
   "execution_count": 82,
   "metadata": {},
   "outputs": [
    {
     "name": "stdout",
     "output_type": "stream",
     "text": [
      " * sqlite:///akbar_database.db\n",
      "Done.\n"
     ]
    },
    {
     "data": {
      "text/html": [
       "<table>\n",
       "    <tr>\n",
       "        <th>index</th>\n",
       "        <th>name</th>\n",
       "        <th>age</th>\n",
       "        <th>location</th>\n",
       "    </tr>\n",
       "    <tr>\n",
       "        <td>0</td>\n",
       "        <td>akbar</td>\n",
       "        <td>23</td>\n",
       "        <td>pdtr</td>\n",
       "    </tr>\n",
       "</table>"
      ],
      "text/plain": [
       "[(0, 'akbar', 23, 'pdtr')]"
      ]
     },
     "execution_count": 82,
     "metadata": {},
     "output_type": "execute_result"
    }
   ],
   "source": [
    "%%sql\n",
    "SELECT *\n",
    "  FROM appscriptsoftwares\n",
    " WHERE name = 'akbar'\n",
    "   AND 'location' IS NOT NULL"
   ]
  },
  {
   "cell_type": "code",
   "execution_count": 84,
   "metadata": {},
   "outputs": [
    {
     "name": "stdout",
     "output_type": "stream",
     "text": [
      " * sqlite:///akbar_database.db\n",
      "Done.\n"
     ]
    },
    {
     "data": {
      "text/html": [
       "<table>\n",
       "    <tr>\n",
       "        <th>index</th>\n",
       "        <th>name</th>\n",
       "        <th>age</th>\n",
       "        <th>location</th>\n",
       "    </tr>\n",
       "    <tr>\n",
       "        <td>1</td>\n",
       "        <td>hari</td>\n",
       "        <td>25</td>\n",
       "        <td>hyd</td>\n",
       "    </tr>\n",
       "</table>"
      ],
      "text/plain": [
       "[(1, 'hari', 25, 'hyd')]"
      ]
     },
     "execution_count": 84,
     "metadata": {},
     "output_type": "execute_result"
    }
   ],
   "source": [
    "%%sql\n",
    "SELECT *\n",
    "  FROM appscriptsoftwares\n",
    " WHERE age = 25\n",
    " ORDER BY name"
   ]
  },
  {
   "cell_type": "code",
   "execution_count": 88,
   "metadata": {},
   "outputs": [
    {
     "name": "stdout",
     "output_type": "stream",
     "text": [
      " * sqlite:///akbar_database.db\n",
      "Done.\n"
     ]
    },
    {
     "data": {
      "text/html": [
       "<table>\n",
       "    <tr>\n",
       "        <th>index</th>\n",
       "        <th>name</th>\n",
       "        <th>age</th>\n",
       "        <th>location</th>\n",
       "    </tr>\n",
       "    <tr>\n",
       "        <td>0</td>\n",
       "        <td>akbar</td>\n",
       "        <td>23</td>\n",
       "        <td>pdtr</td>\n",
       "    </tr>\n",
       "    <tr>\n",
       "        <td>5</td>\n",
       "        <td>charan</td>\n",
       "        <td>26</td>\n",
       "        <td>pdtr</td>\n",
       "    </tr>\n",
       "    <tr>\n",
       "        <td>3</td>\n",
       "        <td>deva</td>\n",
       "        <td>28</td>\n",
       "        <td>pune</td>\n",
       "    </tr>\n",
       "    <tr>\n",
       "        <td>1</td>\n",
       "        <td>hari</td>\n",
       "        <td>25</td>\n",
       "        <td>hyd</td>\n",
       "    </tr>\n",
       "    <tr>\n",
       "        <td>4</td>\n",
       "        <td>karthik</td>\n",
       "        <td>22</td>\n",
       "        <td>pdvla</td>\n",
       "    </tr>\n",
       "    <tr>\n",
       "        <td>2</td>\n",
       "        <td>krishna</td>\n",
       "        <td>26</td>\n",
       "        <td>bglr</td>\n",
       "    </tr>\n",
       "</table>"
      ],
      "text/plain": [
       "[(0, 'akbar', 23, 'pdtr'),\n",
       " (5, 'charan', 26, 'pdtr'),\n",
       " (3, 'deva', 28, 'pune'),\n",
       " (1, 'hari', 25, 'hyd'),\n",
       " (4, 'karthik', 22, 'pdvla'),\n",
       " (2, 'krishna', 26, 'bglr')]"
      ]
     },
     "execution_count": 88,
     "metadata": {},
     "output_type": "execute_result"
    }
   ],
   "source": [
    "%%sql\n",
    "SELECT *\n",
    "  FROM appscriptsoftwares\n",
    " WHERE age <= 50\n",
    " ORDER BY name, location DESC"
   ]
  },
  {
   "cell_type": "code",
   "execution_count": 89,
   "metadata": {},
   "outputs": [
    {
     "name": "stdout",
     "output_type": "stream",
     "text": [
      " * sqlite:///akbar_database.db\n",
      "Done.\n"
     ]
    },
    {
     "data": {
      "text/html": [
       "<table>\n",
       "    <tr>\n",
       "        <th>index</th>\n",
       "        <th>name</th>\n",
       "        <th>age</th>\n",
       "        <th>location</th>\n",
       "    </tr>\n",
       "    <tr>\n",
       "        <td>0</td>\n",
       "        <td>akbar</td>\n",
       "        <td>23</td>\n",
       "        <td>pdtr</td>\n",
       "    </tr>\n",
       "    <tr>\n",
       "        <td>5</td>\n",
       "        <td>charan</td>\n",
       "        <td>26</td>\n",
       "        <td>pdtr</td>\n",
       "    </tr>\n",
       "    <tr>\n",
       "        <td>3</td>\n",
       "        <td>deva</td>\n",
       "        <td>28</td>\n",
       "        <td>pune</td>\n",
       "    </tr>\n",
       "    <tr>\n",
       "        <td>1</td>\n",
       "        <td>hari</td>\n",
       "        <td>25</td>\n",
       "        <td>hyd</td>\n",
       "    </tr>\n",
       "    <tr>\n",
       "        <td>4</td>\n",
       "        <td>karthik</td>\n",
       "        <td>22</td>\n",
       "        <td>pdvla</td>\n",
       "    </tr>\n",
       "    <tr>\n",
       "        <td>2</td>\n",
       "        <td>krishna</td>\n",
       "        <td>26</td>\n",
       "        <td>bglr</td>\n",
       "    </tr>\n",
       "</table>"
      ],
      "text/plain": [
       "[(0, 'akbar', 23, 'pdtr'),\n",
       " (5, 'charan', 26, 'pdtr'),\n",
       " (3, 'deva', 28, 'pune'),\n",
       " (1, 'hari', 25, 'hyd'),\n",
       " (4, 'karthik', 22, 'pdvla'),\n",
       " (2, 'krishna', 26, 'bglr')]"
      ]
     },
     "execution_count": 89,
     "metadata": {},
     "output_type": "execute_result"
    }
   ],
   "source": [
    "%%sql\n",
    "SELECT *\n",
    "  FROM appscriptSOFTWARES\n",
    " WHERE age <= 40\n",
    " ORDER BY 2, 1 DESC"
   ]
  },
  {
   "cell_type": "code",
   "execution_count": null,
   "metadata": {},
   "outputs": [],
   "source": []
  }
 ],
 "metadata": {
  "kernelspec": {
   "display_name": "Python 3",
   "language": "python",
   "name": "python3"
  },
  "language_info": {
   "codemirror_mode": {
    "name": "ipython",
    "version": 3
   },
   "file_extension": ".py",
   "mimetype": "text/x-python",
   "name": "python",
   "nbconvert_exporter": "python",
   "pygments_lexer": "ipython3",
   "version": "3.7.0"
  }
 },
 "nbformat": 4,
 "nbformat_minor": 2
}
